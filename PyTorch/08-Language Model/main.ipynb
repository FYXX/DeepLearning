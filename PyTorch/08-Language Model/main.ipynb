{
 "cells": [
  {
   "cell_type": "code",
   "execution_count": 1,
   "metadata": {
    "collapsed": true
   },
   "outputs": [],
   "source": [
    "import torch\n",
    "import torch.nn as nn\n",
    "import numpy as np\n",
    "from torch.autograd import Variable\n",
    "from data_utils import Dictionary, Corpus"
   ]
  },
  {
   "cell_type": "code",
   "execution_count": 2,
   "metadata": {
    "collapsed": true
   },
   "outputs": [],
   "source": [
    "#超参数\n",
    "embed_size = 128\n",
    "hidden_size = 1024\n",
    "num_layes = 1\n",
    "num_epochs = 5\n",
    "num_samples = 1000\n",
    "batch_size = 20\n",
    "seq_length = 30\n",
    "learning_rate = 0.002"
   ]
  },
  {
   "cell_type": "code",
   "execution_count": 3,
   "metadata": {
    "collapsed": true
   },
   "outputs": [],
   "source": [
    "#导入数据\n",
    "train_path = './data/train.txt'\n",
    "sample_path = './data/sample.txt'\n",
    "corpus = Corpus()\n",
    "ids = corpus.get_data(train_path, batch_size)\n",
    "vocab_size = len(corpus.dictionary)\n",
    "num_batches = ids.size(1)"
   ]
  },
  {
   "cell_type": "code",
   "execution_count": 16,
   "metadata": {
    "collapsed": true
   },
   "outputs": [],
   "source": [
    "#创建RNN模型\n",
    "class RNNLM(nn.Module):\n",
    "    def __init__(self, vocab_size, embed_size, hidden_size, num_layes):\n",
    "        super(RNNLM, self).__init__()\n",
    "        self.embed = nn.Embedding(vocab_size, embed_size)\n",
    "        self.lstm = nn.LSTM(embed_size, hidden_size, num_layes, batch_first=True)\n",
    "        self.linear = nn.Linear(hidden_size, vocab_size)\n",
    "        self.init_weights()\n",
    "        \n",
    "    def init_weights(self):\n",
    "        self.embed.weight.data.uniform_(-0.1, 0.1)\n",
    "        self.linear.bias.data.fill_(0)\n",
    "        self.linear.weight.data.uniform_(-0.1, 0.1)\n",
    "        \n",
    "    def forward(self, x, h):\n",
    "        x = self.embed(x)\n",
    "        \n",
    "        out, h = self.lstm(x, h)\n",
    "        \n",
    "        out = out.contiguous().view(out.size(0)*out.size(1), out.size(2))\n",
    "        \n",
    "        out = self.linear(out)\n",
    "        return out,h\n",
    "    "
   ]
  },
  {
   "cell_type": "code",
   "execution_count": 17,
   "metadata": {},
   "outputs": [
    {
     "data": {
      "text/plain": [
       "RNNLM (\n",
       "  (embed): Embedding(10000, 128)\n",
       "  (lstm): LSTM(128, 1024, batch_first=True)\n",
       "  (linear): Linear (1024 -> 10000)\n",
       ")"
      ]
     },
     "execution_count": 17,
     "metadata": {},
     "output_type": "execute_result"
    }
   ],
   "source": [
    "model = RNNLM(vocab_size, embed_size, hidden_size, num_layes)\n",
    "model.cuda()"
   ]
  },
  {
   "cell_type": "code",
   "execution_count": 18,
   "metadata": {
    "collapsed": true
   },
   "outputs": [],
   "source": [
    "#定义损失函数、优化函数\n",
    "criterion = nn.CrossEntropyLoss()\n",
    "optimizer = torch.optim.Adam(model.parameters(), lr=learning_rate)"
   ]
  },
  {
   "cell_type": "code",
   "execution_count": 19,
   "metadata": {
    "collapsed": true
   },
   "outputs": [],
   "source": [
    "#截断反向传播\n",
    "def detach(states):\n",
    "    return [state.detach() for state in states] "
   ]
  },
  {
   "cell_type": "code",
   "execution_count": 20,
   "metadata": {},
   "outputs": [
    {
     "name": "stdout",
     "output_type": "stream",
     "text": [
      "Epoch [1/5], Step[0/46479], Loss: 9.213, Perplexity: 10022.47\n",
      "Epoch [1/5], Step[100/46479], Loss: 6.043, Perplexity: 421.19\n",
      "Epoch [1/5], Step[200/46479], Loss: 5.947, Perplexity: 382.62\n",
      "Epoch [1/5], Step[300/46479], Loss: 5.794, Perplexity: 328.40\n",
      "Epoch [1/5], Step[400/46479], Loss: 5.685, Perplexity: 294.39\n",
      "Epoch [1/5], Step[500/46479], Loss: 5.141, Perplexity: 170.84\n",
      "Epoch [1/5], Step[600/46479], Loss: 5.242, Perplexity: 189.02\n",
      "Epoch [1/5], Step[700/46479], Loss: 5.379, Perplexity: 216.89\n",
      "Epoch [1/5], Step[800/46479], Loss: 5.228, Perplexity: 186.37\n",
      "Epoch [1/5], Step[900/46479], Loss: 5.094, Perplexity: 162.98\n",
      "Epoch [1/5], Step[1000/46479], Loss: 5.163, Perplexity: 174.75\n",
      "Epoch [1/5], Step[1100/46479], Loss: 5.335, Perplexity: 207.57\n",
      "Epoch [1/5], Step[1200/46479], Loss: 5.151, Perplexity: 172.63\n",
      "Epoch [1/5], Step[1300/46479], Loss: 5.119, Perplexity: 167.20\n",
      "Epoch [1/5], Step[1400/46479], Loss: 4.806, Perplexity: 122.20\n",
      "Epoch [1/5], Step[1500/46479], Loss: 5.178, Perplexity: 177.41\n",
      "Epoch [2/5], Step[0/46479], Loss: 5.493, Perplexity: 242.87\n",
      "Epoch [2/5], Step[100/46479], Loss: 4.618, Perplexity: 101.29\n",
      "Epoch [2/5], Step[200/46479], Loss: 4.769, Perplexity: 117.78\n",
      "Epoch [2/5], Step[300/46479], Loss: 4.824, Perplexity: 124.44\n",
      "Epoch [2/5], Step[400/46479], Loss: 4.745, Perplexity: 115.00\n",
      "Epoch [2/5], Step[500/46479], Loss: 4.251, Perplexity: 70.15\n",
      "Epoch [2/5], Step[600/46479], Loss: 4.534, Perplexity: 93.09\n",
      "Epoch [2/5], Step[700/46479], Loss: 4.612, Perplexity: 100.71\n",
      "Epoch [2/5], Step[800/46479], Loss: 4.534, Perplexity: 93.17\n",
      "Epoch [2/5], Step[900/46479], Loss: 4.447, Perplexity: 85.41\n",
      "Epoch [2/5], Step[1000/46479], Loss: 4.452, Perplexity: 85.79\n",
      "Epoch [2/5], Step[1100/46479], Loss: 4.709, Perplexity: 110.89\n",
      "Epoch [2/5], Step[1200/46479], Loss: 4.585, Perplexity: 98.00\n",
      "Epoch [2/5], Step[1300/46479], Loss: 4.403, Perplexity: 81.70\n",
      "Epoch [2/5], Step[1400/46479], Loss: 4.107, Perplexity: 60.76\n",
      "Epoch [2/5], Step[1500/46479], Loss: 4.522, Perplexity: 92.03\n",
      "Epoch [3/5], Step[0/46479], Loss: 4.814, Perplexity: 123.23\n",
      "Epoch [3/5], Step[100/46479], Loss: 4.071, Perplexity: 58.60\n",
      "Epoch [3/5], Step[200/46479], Loss: 4.187, Perplexity: 65.82\n",
      "Epoch [3/5], Step[300/46479], Loss: 4.166, Perplexity: 64.49\n",
      "Epoch [3/5], Step[400/46479], Loss: 4.106, Perplexity: 60.69\n",
      "Epoch [3/5], Step[500/46479], Loss: 3.664, Perplexity: 39.03\n",
      "Epoch [3/5], Step[600/46479], Loss: 4.074, Perplexity: 58.82\n",
      "Epoch [3/5], Step[700/46479], Loss: 4.086, Perplexity: 59.53\n",
      "Epoch [3/5], Step[800/46479], Loss: 4.018, Perplexity: 55.61\n",
      "Epoch [3/5], Step[900/46479], Loss: 3.916, Perplexity: 50.21\n",
      "Epoch [3/5], Step[1000/46479], Loss: 3.938, Perplexity: 51.32\n",
      "Epoch [3/5], Step[1100/46479], Loss: 4.166, Perplexity: 64.42\n",
      "Epoch [3/5], Step[1200/46479], Loss: 4.046, Perplexity: 57.19\n",
      "Epoch [3/5], Step[1300/46479], Loss: 3.815, Perplexity: 45.37\n",
      "Epoch [3/5], Step[1400/46479], Loss: 3.536, Perplexity: 34.33\n",
      "Epoch [3/5], Step[1500/46479], Loss: 3.946, Perplexity: 51.72\n",
      "Epoch [4/5], Step[0/46479], Loss: 4.090, Perplexity: 59.73\n",
      "Epoch [4/5], Step[100/46479], Loss: 3.612, Perplexity: 37.04\n",
      "Epoch [4/5], Step[200/46479], Loss: 3.723, Perplexity: 41.38\n",
      "Epoch [4/5], Step[300/46479], Loss: 3.660, Perplexity: 38.87\n",
      "Epoch [4/5], Step[400/46479], Loss: 3.645, Perplexity: 38.28\n",
      "Epoch [4/5], Step[500/46479], Loss: 3.178, Perplexity: 24.01\n",
      "Epoch [4/5], Step[600/46479], Loss: 3.652, Perplexity: 38.54\n",
      "Epoch [4/5], Step[700/46479], Loss: 3.669, Perplexity: 39.23\n",
      "Epoch [4/5], Step[800/46479], Loss: 3.629, Perplexity: 37.69\n",
      "Epoch [4/5], Step[900/46479], Loss: 3.433, Perplexity: 30.98\n",
      "Epoch [4/5], Step[1000/46479], Loss: 3.400, Perplexity: 29.95\n",
      "Epoch [4/5], Step[1100/46479], Loss: 3.653, Perplexity: 38.58\n",
      "Epoch [4/5], Step[1200/46479], Loss: 3.594, Perplexity: 36.37\n",
      "Epoch [4/5], Step[1300/46479], Loss: 3.265, Perplexity: 26.18\n",
      "Epoch [4/5], Step[1400/46479], Loss: 3.035, Perplexity: 20.81\n",
      "Epoch [4/5], Step[1500/46479], Loss: 3.428, Perplexity: 30.82\n",
      "Epoch [5/5], Step[0/46479], Loss: 3.556, Perplexity: 35.02\n",
      "Epoch [5/5], Step[100/46479], Loss: 3.162, Perplexity: 23.61\n",
      "Epoch [5/5], Step[200/46479], Loss: 3.363, Perplexity: 28.88\n",
      "Epoch [5/5], Step[300/46479], Loss: 3.322, Perplexity: 27.71\n",
      "Epoch [5/5], Step[400/46479], Loss: 3.326, Perplexity: 27.83\n",
      "Epoch [5/5], Step[500/46479], Loss: 2.866, Perplexity: 17.57\n",
      "Epoch [5/5], Step[600/46479], Loss: 3.338, Perplexity: 28.15\n",
      "Epoch [5/5], Step[700/46479], Loss: 3.332, Perplexity: 28.00\n",
      "Epoch [5/5], Step[800/46479], Loss: 3.318, Perplexity: 27.61\n",
      "Epoch [5/5], Step[900/46479], Loss: 3.092, Perplexity: 22.03\n",
      "Epoch [5/5], Step[1000/46479], Loss: 3.143, Perplexity: 23.18\n",
      "Epoch [5/5], Step[1100/46479], Loss: 3.251, Perplexity: 25.81\n",
      "Epoch [5/5], Step[1200/46479], Loss: 3.243, Perplexity: 25.61\n",
      "Epoch [5/5], Step[1300/46479], Loss: 2.961, Perplexity: 19.32\n",
      "Epoch [5/5], Step[1400/46479], Loss: 2.702, Perplexity: 14.90\n",
      "Epoch [5/5], Step[1500/46479], Loss: 3.138, Perplexity: 23.06\n"
     ]
    }
   ],
   "source": [
    "#训练模型\n",
    "for epoch in range(num_epochs):\n",
    "    states = (Variable(torch.zeros(num_layes, batch_size, hidden_size)).cuda(), Variable(torch.zeros(num_layes, batch_size, hidden_size)).cuda())\n",
    "    \n",
    "    for i in range(0, ids.size(1) - seq_length, seq_length):\n",
    "        inputs = Variable(ids[:, i:i+seq_length]).cuda()\n",
    "        targets = Variable(ids[:, (i+1):(i+1)+seq_length].contiguous()).cuda()\n",
    "        \n",
    "        model.zero_grad()\n",
    "        states = detach(states)\n",
    "        outputs, states = model(inputs, states) \n",
    "        loss = criterion(outputs, targets.view(-1))\n",
    "        loss.backward()\n",
    "        torch.nn.utils.clip_grad_norm(model.parameters(), 0.5)\n",
    "        optimizer.step()\n",
    "        \n",
    "        step = (i+1) // seq_length\n",
    "        if step % 100 == 0:\n",
    "            print ('Epoch [%d/%d], Step[%d/%d], Loss: %.3f, Perplexity: %5.2f' %\n",
    "                   (epoch+1, num_epochs, step, num_batches, loss.data[0], np.exp(loss.data[0])))"
   ]
  },
  {
   "cell_type": "code",
   "execution_count": 22,
   "metadata": {},
   "outputs": [
    {
     "name": "stdout",
     "output_type": "stream",
     "text": [
      "Sampled [100/1000] words and save to ./data/sample.txt\n",
      "Sampled [200/1000] words and save to ./data/sample.txt\n",
      "Sampled [300/1000] words and save to ./data/sample.txt\n",
      "Sampled [400/1000] words and save to ./data/sample.txt\n",
      "Sampled [500/1000] words and save to ./data/sample.txt\n",
      "Sampled [600/1000] words and save to ./data/sample.txt\n",
      "Sampled [700/1000] words and save to ./data/sample.txt\n",
      "Sampled [800/1000] words and save to ./data/sample.txt\n",
      "Sampled [900/1000] words and save to ./data/sample.txt\n",
      "Sampled [1000/1000] words and save to ./data/sample.txt\n"
     ]
    }
   ],
   "source": [
    "#采样\n",
    "with open(sample_path, 'w') as f:\n",
    "    state = (Variable(torch.zeros(num_layes, 1, hidden_size)).cuda(),Variable(torch.zeros(num_layes, 1, hidden_size)).cuda())\n",
    "    \n",
    "    prob = torch.ones(vocab_size)\n",
    "    input = Variable(torch.multinomial(prob, num_samples=1).unsqueeze(1),\n",
    "                     volatile=True).cuda()\n",
    "\n",
    "    for i in range(num_samples):\n",
    "        output, state = model(input, state)\n",
    "        \n",
    "        prob = output.squeeze().data.exp().cpu()\n",
    "        word_id = torch.multinomial(prob, 1)[0]\n",
    "        \n",
    "        input.data.fill_(word_id)\n",
    "        \n",
    "        # 写入文件\n",
    "        word = corpus.dictionary.idx2word[word_id]\n",
    "        word = '\\n' if word == '<eos>' else word + ' '\n",
    "        f.write(word)\n",
    "\n",
    "        if (i+1) % 100 == 0:\n",
    "            print('Sampled [%d/%d] words and save to %s'%(i+1, num_samples, sample_path))"
   ]
  },
  {
   "cell_type": "code",
   "execution_count": 23,
   "metadata": {
    "collapsed": true
   },
   "outputs": [],
   "source": [
    "#保存模型\n",
    "torch.save(model.state_dict(), 'model.pkl')"
   ]
  },
  {
   "cell_type": "code",
   "execution_count": null,
   "metadata": {
    "collapsed": true
   },
   "outputs": [],
   "source": []
  }
 ],
 "metadata": {
  "kernelspec": {
   "display_name": "Python [conda root]",
   "language": "python",
   "name": "conda-root-py"
  },
  "language_info": {
   "codemirror_mode": {
    "name": "ipython",
    "version": 3
   },
   "file_extension": ".py",
   "mimetype": "text/x-python",
   "name": "python",
   "nbconvert_exporter": "python",
   "pygments_lexer": "ipython3",
   "version": "3.6.0"
  }
 },
 "nbformat": 4,
 "nbformat_minor": 2
}
