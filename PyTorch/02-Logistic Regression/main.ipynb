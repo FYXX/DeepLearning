{
 "cells": [
  {
   "cell_type": "code",
   "execution_count": 10,
   "metadata": {
    "collapsed": true
   },
   "outputs": [],
   "source": [
    "import torch\n",
    "import torch.nn as nn\n",
    "import torchvision.datasets as dsets\n",
    "import torchvision.transforms as transforms\n",
    "from torch.autograd import Variable"
   ]
  },
  {
   "cell_type": "code",
   "execution_count": 11,
   "metadata": {
    "collapsed": true
   },
   "outputs": [],
   "source": [
    "#超参数\n",
    "input_size = 784\n",
    "num_classes = 10\n",
    "num_epoch = 5\n",
    "batch_size = 100\n",
    "learning_rate = 0.001"
   ]
  },
  {
   "cell_type": "code",
   "execution_count": 33,
   "metadata": {},
   "outputs": [],
   "source": [
    "#MNIST 数据集\n",
    "train_dataset = dsets.MNIST(root='../data', train=True, transform=transforms.ToTensor(), download=True)\n",
    "test_dataset = dsets.MNIST(root='../data', train=False, transform=transforms.ToTensor(), download=True)"
   ]
  },
  {
   "cell_type": "code",
   "execution_count": 34,
   "metadata": {
    "collapsed": true
   },
   "outputs": [],
   "source": [
    "#加载数据集\n",
    "train_loader = torch.utils.data.DataLoader(dataset=train_dataset, batch_size=batch_size, shuffle=True)\n",
    "test_loader = torch.utils.data.DataLoader(dataset=test_dataset, batch_size=batch_size, shuffle=False)"
   ]
  },
  {
   "cell_type": "code",
   "execution_count": 35,
   "metadata": {
    "collapsed": true
   },
   "outputs": [],
   "source": [
    "#构建模型\n",
    "class LogisticRegression(nn.Module):\n",
    "    def __init__(self, input_size, num_classes):\n",
    "        super(LogisticRegression, self).__init__()\n",
    "        self.linear = nn.Linear(input_size, num_classes)\n",
    "        \n",
    "    def forward(self, x):\n",
    "        out = self.linear(x)\n",
    "        return out\n",
    "    \n",
    "model = LogisticRegression(input_size, num_classes)"
   ]
  },
  {
   "cell_type": "code",
   "execution_count": 36,
   "metadata": {
    "collapsed": true
   },
   "outputs": [],
   "source": [
    "#定义损失函数和优化函数\n",
    "criterion = nn.CrossEntropyLoss()\n",
    "optimizer = torch.optim.SGD(model.parameters(), lr=learning_rate)"
   ]
  },
  {
   "cell_type": "code",
   "execution_count": 38,
   "metadata": {},
   "outputs": [
    {
     "name": "stdout",
     "output_type": "stream",
     "text": [
      "Epoch: [1/5], Step: [100/600], Loss: 2.1234\n",
      "Epoch: [1/5], Step: [200/600], Loss: 2.0252\n",
      "Epoch: [1/5], Step: [300/600], Loss: 1.9598\n",
      "Epoch: [1/5], Step: [400/600], Loss: 1.8860\n",
      "Epoch: [1/5], Step: [500/600], Loss: 1.7556\n",
      "Epoch: [1/5], Step: [600/600], Loss: 1.7215\n",
      "Epoch: [2/5], Step: [100/600], Loss: 1.6826\n",
      "Epoch: [2/5], Step: [200/600], Loss: 1.6396\n",
      "Epoch: [2/5], Step: [300/600], Loss: 1.5755\n",
      "Epoch: [2/5], Step: [400/600], Loss: 1.5590\n",
      "Epoch: [2/5], Step: [500/600], Loss: 1.5261\n",
      "Epoch: [2/5], Step: [600/600], Loss: 1.3608\n",
      "Epoch: [3/5], Step: [100/600], Loss: 1.4480\n",
      "Epoch: [3/5], Step: [200/600], Loss: 1.2846\n",
      "Epoch: [3/5], Step: [300/600], Loss: 1.3739\n",
      "Epoch: [3/5], Step: [400/600], Loss: 1.2576\n",
      "Epoch: [3/5], Step: [500/600], Loss: 1.3313\n",
      "Epoch: [3/5], Step: [600/600], Loss: 1.2295\n",
      "Epoch: [4/5], Step: [100/600], Loss: 1.2200\n",
      "Epoch: [4/5], Step: [200/600], Loss: 1.1897\n",
      "Epoch: [4/5], Step: [300/600], Loss: 1.1548\n",
      "Epoch: [4/5], Step: [400/600], Loss: 1.1437\n",
      "Epoch: [4/5], Step: [500/600], Loss: 1.1309\n",
      "Epoch: [4/5], Step: [600/600], Loss: 1.0410\n",
      "Epoch: [5/5], Step: [100/600], Loss: 0.9913\n",
      "Epoch: [5/5], Step: [200/600], Loss: 0.9917\n",
      "Epoch: [5/5], Step: [300/600], Loss: 1.0727\n",
      "Epoch: [5/5], Step: [400/600], Loss: 1.0099\n",
      "Epoch: [5/5], Step: [500/600], Loss: 1.1106\n",
      "Epoch: [5/5], Step: [600/600], Loss: 0.9110\n"
     ]
    }
   ],
   "source": [
    "#训练网络\n",
    "for epoch in range(num_epoch):\n",
    "    for i, (images, labels) in enumerate(train_loader):\n",
    "        images = Variable(images.view(-1, 28*28))\n",
    "        labels = Variable(labels)\n",
    "        \n",
    "        #前向+后向+优化\n",
    "        optimizer.zero_grad()\n",
    "        outputs = model(images)\n",
    "        \n",
    "        #调用损失函数，计算输出值与真实值之间的差\n",
    "        loss = criterion(outputs, labels)\n",
    "        \n",
    "        #反向传播\n",
    "        loss.backward()\n",
    "        \n",
    "        #优化开始\n",
    "        optimizer.step()\n",
    "        \n",
    "        if (i+1) % 100 == 0:\n",
    "            print ('Epoch: [%d/%d], Step: [%d/%d], Loss: %.4f' % (epoch+1, num_epoch, i+1, len(train_dataset)//batch_size, loss.data[0]))"
   ]
  },
  {
   "cell_type": "code",
   "execution_count": null,
   "metadata": {
    "collapsed": true
   },
   "outputs": [],
   "source": [
    "#测试网络模型\n",
    "correct = 0\n",
    "total = 0\n",
    "for images, labels in test_loader:\n",
    "    images = Variable(images.view(-1, 28*28))\n",
    "    outputs = model(images)\n",
    "    _, predicted = torch.max(outputs.data, 1)\n",
    "    total += labels.size(0)\n",
    "    correct += (predicted == la)"
   ]
  }
 ],
 "metadata": {
  "kernelspec": {
   "display_name": "Python [conda root]",
   "language": "python",
   "name": "conda-root-py"
  },
  "language_info": {
   "codemirror_mode": {
    "name": "ipython",
    "version": 3
   },
   "file_extension": ".py",
   "mimetype": "text/x-python",
   "name": "python",
   "nbconvert_exporter": "python",
   "pygments_lexer": "ipython3",
   "version": "3.6.0"
  }
 },
 "nbformat": 4,
 "nbformat_minor": 2
}
