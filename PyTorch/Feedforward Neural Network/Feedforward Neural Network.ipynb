{
 "cells": [
  {
   "cell_type": "code",
   "execution_count": 1,
   "metadata": {
    "collapsed": true
   },
   "outputs": [],
   "source": [
    "import torch\n",
    "import torch.nn as nn\n",
    "import torchvision.datasets as dsets\n",
    "import torchvision.transforms as transforms\n",
    "from torch.autograd import Variable"
   ]
  },
  {
   "cell_type": "code",
   "execution_count": 2,
   "metadata": {
    "collapsed": true
   },
   "outputs": [],
   "source": [
    "#超参数\n",
    "input_size = 784\n",
    "hidden_size = 500\n",
    "num_class = 10\n",
    "num_epochs = 5\n",
    "batch_size = 100\n",
    "learning_rate = 0.001"
   ]
  },
  {
   "cell_type": "code",
   "execution_count": 3,
   "metadata": {
    "collapsed": true
   },
   "outputs": [],
   "source": [
    "#MNIST 数据集\n",
    "train_dataset = dsets.MNIST(root='../data', train=True, transform=transforms.ToTensor(), download=True)\n",
    "test_dataset = dsets.MNIST(root='../data', train=False, transform=transforms.ToTensor(), download=True)"
   ]
  },
  {
   "cell_type": "code",
   "execution_count": 4,
   "metadata": {
    "collapsed": true
   },
   "outputs": [],
   "source": [
    "#加载数据集\n",
    "train_loader = torch.utils.data.DataLoader(dataset=train_dataset, batch_size=batch_size, shuffle=True)\n",
    "test_loader = torch.utils.data.DataLoader(dataset=test_dataset, batch_size=batch_size, shuffle=False)"
   ]
  },
  {
   "cell_type": "code",
   "execution_count": 7,
   "metadata": {},
   "outputs": [
    {
     "data": {
      "text/plain": [
       "Net (\n",
       "  (fc1): Linear (784 -> 500)\n",
       "  (relu): ReLU ()\n",
       "  (fc2): Linear (500 -> 10)\n",
       ")"
      ]
     },
     "execution_count": 7,
     "metadata": {},
     "output_type": "execute_result"
    }
   ],
   "source": [
    "#构建网络模型\n",
    "class Net(nn.Module):\n",
    "    def __init__(self, input_size, hidden_size, num_class):\n",
    "        super(Net, self).__init__()\n",
    "        self.fc1 = nn.Linear(input_size, hidden_size)\n",
    "        self.relu = nn.ReLU()\n",
    "        self.fc2 = nn.Linear(hidden_size, num_class)\n",
    "        \n",
    "    def forward(self, x):\n",
    "        out = self.fc1(x)\n",
    "        out = self.relu(out)\n",
    "        out = self.fc2(out)\n",
    "        return out\n",
    "    \n",
    "net = Net(input_size, hidden_size, num_class)\n",
    "net.cuda()"
   ]
  },
  {
   "cell_type": "code",
   "execution_count": 8,
   "metadata": {
    "collapsed": true
   },
   "outputs": [],
   "source": [
    "#定义损失函数和优化函数\n",
    "criterion = nn.CrossEntropyLoss()\n",
    "optimizer = torch.optim.Adam(net.parameters(), lr=learning_rate)"
   ]
  },
  {
   "cell_type": "code",
   "execution_count": 9,
   "metadata": {},
   "outputs": [
    {
     "name": "stdout",
     "output_type": "stream",
     "text": [
      "Epoch [1/5], Step [100/600], Loss: 0.3720\n",
      "Epoch [1/5], Step [200/600], Loss: 0.5130\n",
      "Epoch [1/5], Step [300/600], Loss: 0.1968\n",
      "Epoch [1/5], Step [400/600], Loss: 0.2184\n",
      "Epoch [1/5], Step [500/600], Loss: 0.1336\n",
      "Epoch [1/5], Step [600/600], Loss: 0.1931\n",
      "Epoch [2/5], Step [100/600], Loss: 0.1308\n",
      "Epoch [2/5], Step [200/600], Loss: 0.0768\n",
      "Epoch [2/5], Step [300/600], Loss: 0.0924\n",
      "Epoch [2/5], Step [400/600], Loss: 0.1660\n",
      "Epoch [2/5], Step [500/600], Loss: 0.1752\n",
      "Epoch [2/5], Step [600/600], Loss: 0.0228\n",
      "Epoch [3/5], Step [100/600], Loss: 0.1139\n",
      "Epoch [3/5], Step [200/600], Loss: 0.0626\n",
      "Epoch [3/5], Step [300/600], Loss: 0.0454\n",
      "Epoch [3/5], Step [400/600], Loss: 0.0363\n",
      "Epoch [3/5], Step [500/600], Loss: 0.1305\n",
      "Epoch [3/5], Step [600/600], Loss: 0.0313\n",
      "Epoch [4/5], Step [100/600], Loss: 0.0173\n",
      "Epoch [4/5], Step [200/600], Loss: 0.0877\n",
      "Epoch [4/5], Step [300/600], Loss: 0.0253\n",
      "Epoch [4/5], Step [400/600], Loss: 0.0325\n",
      "Epoch [4/5], Step [500/600], Loss: 0.0466\n",
      "Epoch [4/5], Step [600/600], Loss: 0.0503\n",
      "Epoch [5/5], Step [100/600], Loss: 0.0165\n",
      "Epoch [5/5], Step [200/600], Loss: 0.0229\n",
      "Epoch [5/5], Step [300/600], Loss: 0.0158\n",
      "Epoch [5/5], Step [400/600], Loss: 0.0369\n",
      "Epoch [5/5], Step [500/600], Loss: 0.0908\n",
      "Epoch [5/5], Step [600/600], Loss: 0.0235\n"
     ]
    }
   ],
   "source": [
    "#训练网络\n",
    "for epoch in range(num_epochs):\n",
    "    for i, (images, labels) in enumerate(train_loader):\n",
    "        images = Variable(images.view(-1, 28*28)).cuda()\n",
    "        labels = Variable(labels).cuda()\n",
    "        \n",
    "        #前向+后向+优化\n",
    "        optimizer.zero_grad()\n",
    "        outputs = net(images)\n",
    "        \n",
    "        #调用损失函数，计算输出值和真实值之间的差\n",
    "        loss = criterion(outputs, labels)\n",
    "        #反向传播\n",
    "        loss.backward()\n",
    "        #开始迭代优化\n",
    "        optimizer.step()\n",
    "        \n",
    "        if (i+1) % 100 == 0:\n",
    "            print ('Epoch [%d/%d], Step [%d/%d], Loss: %.4f' %(epoch+1, num_epochs, i+1, len(train_dataset)//batch_size, loss.data[0]))"
   ]
  },
  {
   "cell_type": "code",
   "execution_count": 10,
   "metadata": {},
   "outputs": [
    {
     "name": "stdout",
     "output_type": "stream",
     "text": [
      "Accuracy of the network on the 10000 test images: 98 %\n"
     ]
    }
   ],
   "source": [
    "#测试网络\n",
    "correct = 0\n",
    "total = 0\n",
    "for images, labels in test_loader:\n",
    "    images = Variable(images.view(-1, 28*28)).cuda()\n",
    "    outputs = net(images)\n",
    "    _, predicted = torch.max(outputs.data, 1)\n",
    "    total += labels.size(0)\n",
    "    correct += (predicted == labels.cuda()).sum()\n",
    "    \n",
    "print('Accuracy of the network on the 10000 test images: %d %%' % (100 * correct / total))"
   ]
  },
  {
   "cell_type": "code",
   "execution_count": 11,
   "metadata": {
    "collapsed": true
   },
   "outputs": [],
   "source": [
    "#保存模型\n",
    "torch.save(net.state_dict(), 'model.pkl')"
   ]
  },
  {
   "cell_type": "code",
   "execution_count": null,
   "metadata": {
    "collapsed": true
   },
   "outputs": [],
   "source": []
  }
 ],
 "metadata": {
  "kernelspec": {
   "display_name": "Python [conda root]",
   "language": "python",
   "name": "conda-root-py"
  },
  "language_info": {
   "codemirror_mode": {
    "name": "ipython",
    "version": 3
   },
   "file_extension": ".py",
   "mimetype": "text/x-python",
   "name": "python",
   "nbconvert_exporter": "python",
   "pygments_lexer": "ipython3",
   "version": "3.6.0"
  }
 },
 "nbformat": 4,
 "nbformat_minor": 2
}
