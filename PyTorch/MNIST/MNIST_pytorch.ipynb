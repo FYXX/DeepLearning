{
 "cells": [
  {
   "cell_type": "code",
   "execution_count": 1,
   "metadata": {
    "collapsed": true
   },
   "outputs": [],
   "source": [
    "import torch\n",
    "import torch.nn as nn\n",
    "import torchvision.datasets as dsets\n",
    "import torchvision.transforms as transforms\n",
    "from torch.autograd import Variable"
   ]
  },
  {
   "cell_type": "code",
   "execution_count": 17,
   "metadata": {
    "collapsed": true
   },
   "outputs": [],
   "source": [
    "#超参\n",
    "num_epochs = 10\n",
    "batch_size = 100\n",
    "learning_rate = 0.001"
   ]
  },
  {
   "cell_type": "code",
   "execution_count": 18,
   "metadata": {},
   "outputs": [],
   "source": [
    "#MNIST 数据集\n",
    "train_dataset = dsets.MNIST(root='../data/', train=True, transform=transforms.ToTensor(), download=True)\n",
    "test_dataset = dsets.MNIST(root = '../data/', train=False, transform=transforms.ToTensor(), download=True)"
   ]
  },
  {
   "cell_type": "code",
   "execution_count": 19,
   "metadata": {
    "collapsed": true
   },
   "outputs": [],
   "source": [
    "#导入数据\n",
    "train_loader = torch.utils.data.DataLoader(dataset=train_dataset, batch_size=batch_size, shuffle=True)\n",
    "test_loader = torch.utils.data.DataLoader(dataset=test_dataset, batch_size=batch_size, shuffle=False)"
   ]
  },
  {
   "cell_type": "code",
   "execution_count": 20,
   "metadata": {},
   "outputs": [
    {
     "data": {
      "text/plain": [
       "CNN (\n",
       "  (layer1): Sequential (\n",
       "    (0): Conv2d(1, 16, kernel_size=(5, 5), stride=(1, 1), padding=(2, 2))\n",
       "    (1): BatchNorm2d(16, eps=1e-05, momentum=0.1, affine=True)\n",
       "    (2): ReLU ()\n",
       "    (3): MaxPool2d (size=(2, 2), stride=(2, 2), dilation=(1, 1))\n",
       "  )\n",
       "  (layer2): Sequential (\n",
       "    (0): Conv2d(16, 32, kernel_size=(5, 5), stride=(1, 1), padding=(2, 2))\n",
       "    (1): BatchNorm2d(32, eps=1e-05, momentum=0.1, affine=True)\n",
       "    (2): ReLU ()\n",
       "    (3): MaxPool2d (size=(2, 2), stride=(2, 2), dilation=(1, 1))\n",
       "  )\n",
       "  (fc): Linear (1568 -> 10)\n",
       ")"
      ]
     },
     "execution_count": 20,
     "metadata": {},
     "output_type": "execute_result"
    }
   ],
   "source": [
    "#构建CNN模型\n",
    "class CNN(nn.Module):\n",
    "    def __init__(self):\n",
    "        super(CNN, self).__init__()\n",
    "        self.layer1 = nn.Sequential(\n",
    "            nn.Conv2d(1, 16, kernel_size=5, padding=2),\n",
    "            nn.BatchNorm2d(16),\n",
    "            nn.ReLU(),\n",
    "            nn.MaxPool2d(2)\n",
    "        )\n",
    "        self.layer2 = nn.Sequential(\n",
    "            nn.Conv2d(16, 32, kernel_size=5, padding=2),\n",
    "            nn.BatchNorm2d(32),\n",
    "            nn.ReLU(),\n",
    "            nn.MaxPool2d(2)\n",
    "        )\n",
    "        self.fc = nn.Linear(7*7*32, 10)\n",
    "        \n",
    "    def forward(self, x):\n",
    "        out = self.layer1(x)\n",
    "        out = self.layer2(out)\n",
    "        out = out.view(out.size(0), -1)\n",
    "        out = self.fc(out)\n",
    "        return out\n",
    "    \n",
    "cnn = CNN()\n",
    "cnn.cuda()"
   ]
  },
  {
   "cell_type": "code",
   "execution_count": 21,
   "metadata": {
    "collapsed": true
   },
   "outputs": [],
   "source": [
    "#定义损失函数和优化函数\n",
    "criterion = nn.CrossEntropyLoss()\n",
    "optimizer = torch.optim.Adam(cnn.parameters(), lr=learning_rate)"
   ]
  },
  {
   "cell_type": "code",
   "execution_count": 22,
   "metadata": {},
   "outputs": [
    {
     "name": "stdout",
     "output_type": "stream",
     "text": [
      "Epoch [1/10], Iter [100/600] Loss: 0.1484\n",
      "Epoch [1/10], Iter [200/600] Loss: 0.0482\n",
      "Epoch [1/10], Iter [300/600] Loss: 0.0911\n",
      "Epoch [1/10], Iter [400/600] Loss: 0.1019\n",
      "Epoch [1/10], Iter [500/600] Loss: 0.0621\n",
      "Epoch [1/10], Iter [600/600] Loss: 0.0462\n",
      "Epoch [2/10], Iter [100/600] Loss: 0.0362\n",
      "Epoch [2/10], Iter [200/600] Loss: 0.1191\n",
      "Epoch [2/10], Iter [300/600] Loss: 0.0346\n",
      "Epoch [2/10], Iter [400/600] Loss: 0.0371\n",
      "Epoch [2/10], Iter [500/600] Loss: 0.0195\n",
      "Epoch [2/10], Iter [600/600] Loss: 0.0444\n",
      "Epoch [3/10], Iter [100/600] Loss: 0.0386\n",
      "Epoch [3/10], Iter [200/600] Loss: 0.0516\n",
      "Epoch [3/10], Iter [300/600] Loss: 0.0078\n",
      "Epoch [3/10], Iter [400/600] Loss: 0.0279\n",
      "Epoch [3/10], Iter [500/600] Loss: 0.0305\n",
      "Epoch [3/10], Iter [600/600] Loss: 0.0220\n",
      "Epoch [4/10], Iter [100/600] Loss: 0.0048\n",
      "Epoch [4/10], Iter [200/600] Loss: 0.0148\n",
      "Epoch [4/10], Iter [300/600] Loss: 0.0067\n",
      "Epoch [4/10], Iter [400/600] Loss: 0.0128\n",
      "Epoch [4/10], Iter [500/600] Loss: 0.0152\n",
      "Epoch [4/10], Iter [600/600] Loss: 0.0237\n",
      "Epoch [5/10], Iter [100/600] Loss: 0.0243\n",
      "Epoch [5/10], Iter [200/600] Loss: 0.0176\n",
      "Epoch [5/10], Iter [300/600] Loss: 0.0115\n",
      "Epoch [5/10], Iter [400/600] Loss: 0.0141\n",
      "Epoch [5/10], Iter [500/600] Loss: 0.0048\n",
      "Epoch [5/10], Iter [600/600] Loss: 0.0034\n",
      "Epoch [6/10], Iter [100/600] Loss: 0.0061\n",
      "Epoch [6/10], Iter [200/600] Loss: 0.0059\n",
      "Epoch [6/10], Iter [300/600] Loss: 0.0054\n",
      "Epoch [6/10], Iter [400/600] Loss: 0.0510\n",
      "Epoch [6/10], Iter [500/600] Loss: 0.0078\n",
      "Epoch [6/10], Iter [600/600] Loss: 0.0124\n",
      "Epoch [7/10], Iter [100/600] Loss: 0.0246\n",
      "Epoch [7/10], Iter [200/600] Loss: 0.0218\n",
      "Epoch [7/10], Iter [300/600] Loss: 0.0174\n",
      "Epoch [7/10], Iter [400/600] Loss: 0.0176\n",
      "Epoch [7/10], Iter [500/600] Loss: 0.0057\n",
      "Epoch [7/10], Iter [600/600] Loss: 0.0108\n",
      "Epoch [8/10], Iter [100/600] Loss: 0.0064\n",
      "Epoch [8/10], Iter [200/600] Loss: 0.0171\n",
      "Epoch [8/10], Iter [300/600] Loss: 0.0031\n",
      "Epoch [8/10], Iter [400/600] Loss: 0.0166\n",
      "Epoch [8/10], Iter [500/600] Loss: 0.0008\n",
      "Epoch [8/10], Iter [600/600] Loss: 0.0089\n",
      "Epoch [9/10], Iter [100/600] Loss: 0.0034\n",
      "Epoch [9/10], Iter [200/600] Loss: 0.0164\n",
      "Epoch [9/10], Iter [300/600] Loss: 0.0041\n",
      "Epoch [9/10], Iter [400/600] Loss: 0.0248\n",
      "Epoch [9/10], Iter [500/600] Loss: 0.0077\n",
      "Epoch [9/10], Iter [600/600] Loss: 0.0180\n",
      "Epoch [10/10], Iter [100/600] Loss: 0.0047\n",
      "Epoch [10/10], Iter [200/600] Loss: 0.0005\n",
      "Epoch [10/10], Iter [300/600] Loss: 0.0103\n",
      "Epoch [10/10], Iter [400/600] Loss: 0.0018\n",
      "Epoch [10/10], Iter [500/600] Loss: 0.0030\n",
      "Epoch [10/10], Iter [600/600] Loss: 0.0006\n"
     ]
    }
   ],
   "source": [
    "#训练网络\n",
    "for epoch in range(num_epochs):\n",
    "    for i, (images, labels) in enumerate(train_loader):\n",
    "        images = Variable(images).cuda()\n",
    "        labels = Variable(labels).cuda()\n",
    "        \n",
    "        #前向+后向+优化\n",
    "        optimizer.zero_grad()\n",
    "        outputs = cnn(images)\n",
    "        \n",
    "        #调用损失函数计算输出结果与真实值的差\n",
    "        loss = criterion(outputs, labels)\n",
    "        \n",
    "        #后向传播\n",
    "        loss.backward()\n",
    "        optimizer.step()\n",
    "        \n",
    "        if (i+1) % 100 == 0:\n",
    "            print('Epoch [%d/%d], Iter [%d/%d] Loss: %.4f' % (epoch+1, num_epochs, i+1, len(train_dataset)//batch_size, loss.data[0]))"
   ]
  },
  {
   "cell_type": "code",
   "execution_count": 23,
   "metadata": {},
   "outputs": [
    {
     "name": "stdout",
     "output_type": "stream",
     "text": [
      "Test Accuracy of the model on the 10000 test images: 99 %\n"
     ]
    }
   ],
   "source": [
    "#网络测试\n",
    "cnn.eval()\n",
    "correct = 0\n",
    "total = 0\n",
    "for images, labels in test_loader:\n",
    "    images = Variable(images).cuda()\n",
    "    outputs = cnn(images)\n",
    "    _, predictd = torch.max(outputs.data, 1)\n",
    "    total += labels.size(0)\n",
    "    correct += (predictd == labels.cuda()).sum()\n",
    "    \n",
    "print('Test Accuracy of the model on the 10000 test images: %d %%' % (100 * correct / total))"
   ]
  },
  {
   "cell_type": "code",
   "execution_count": 24,
   "metadata": {
    "collapsed": true
   },
   "outputs": [],
   "source": [
    "#保存模型\n",
    "torch.save(cnn.state_dict(), 'cnn.pkl')"
   ]
  },
  {
   "cell_type": "code",
   "execution_count": null,
   "metadata": {
    "collapsed": true
   },
   "outputs": [],
   "source": []
  }
 ],
 "metadata": {
  "kernelspec": {
   "display_name": "Python [conda root]",
   "language": "python",
   "name": "conda-root-py"
  },
  "language_info": {
   "codemirror_mode": {
    "name": "ipython",
    "version": 3
   },
   "file_extension": ".py",
   "mimetype": "text/x-python",
   "name": "python",
   "nbconvert_exporter": "python",
   "pygments_lexer": "ipython3",
   "version": "3.6.0"
  }
 },
 "nbformat": 4,
 "nbformat_minor": 2
}
